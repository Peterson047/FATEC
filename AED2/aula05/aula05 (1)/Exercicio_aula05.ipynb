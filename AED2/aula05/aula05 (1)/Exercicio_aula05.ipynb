{
 "cells": [
  {
   "cell_type": "code",
   "execution_count": 22,
   "id": "b3cd6e46-a5bf-413d-b6b6-4c30c0c6e3a0",
   "metadata": {},
   "outputs": [],
   "source": [
    "def main():\n",
    "    vetor = []\n",
    "    print(\"Digite uma sequência de valores inteiros (digite -1 para parar):\")\n",
    "    \n",
    "    while True:\n",
    "        try:\n",
    "            valor = int(input())\n",
    "            if valor == -1:\n",
    "                break\n",
    "            vetor.append(valor)\n",
    "        except ValueError:\n",
    "            print(\"Por favor, insira um número inteiro válido.\")\n",
    "    if not vetor:\n",
    "        print(\"Nenhum valor foi inserido.\")\n",
    "        return"
   ]
  },
  {
   "cell_type": "code",
   "execution_count": 23,
   "id": "2d4054ef-88f4-4554-8bda-fcd8cbc2c0b5",
   "metadata": {},
   "outputs": [],
   "source": [
    "def busca_binaria(v, lista_ord):\n",
    "    esquerda = 0\n",
    "    direita = len(lista_ord) - 1\n",
    "    while esquerda <= direita:\n",
    "        meio = (esquerda + direita) // 2\n",
    "        if v == lista_ord[meio]:\n",
    "            return meio\n",
    "        elif v < lista_ord[meio]:\n",
    "            direita = meio - 1\n",
    "        else:\n",
    "            esquerda = meio + 1\n",
    "    return -1"
   ]
  },
  {
   "cell_type": "code",
   "execution_count": 24,
   "id": "9250d091-e313-4b2f-ad93-9ddb02a6248b",
   "metadata": {},
   "outputs": [
    {
     "name": "stdout",
     "output_type": "stream",
     "text": [
      "Digite uma sequência de valores inteiros (digite -1 para parar):\n"
     ]
    },
    {
     "name": "stdin",
     "output_type": "stream",
     "text": [
      " 6\n",
      " 5\n",
      " 3\n",
      " 5\n",
      " 6\n",
      " -1\n"
     ]
    },
    {
     "name": "stdout",
     "output_type": "stream",
     "text": [
      "Lista ordenada: [3, 5, 5, 6, 6]\n"
     ]
    },
    {
     "name": "stdin",
     "output_type": "stream",
     "text": [
      "Digite o valor que deseja buscar no vetor:  5\n"
     ]
    },
    {
     "name": "stdout",
     "output_type": "stream",
     "text": [
      "Valor 5 encontrado na posição 2.\n"
     ]
    }
   ],
   "source": [
    "def main():\n",
    "    vetor = []\n",
    "    print(\"Digite uma sequência de valores inteiros (digite -1 para parar):\")\n",
    "    \n",
    "    while True:\n",
    "        try:\n",
    "            valor = int(input())\n",
    "            if valor == -1:\n",
    "                break\n",
    "            vetor.append(valor)\n",
    "        except ValueError:\n",
    "            print(\"Por favor, insira um número inteiro válido.\")\n",
    "    \n",
    "    if not vetor:\n",
    "        print(\"Nenhum valor foi inserido.\")\n",
    "        return\n",
    "    \n",
    "    vetor.sort()\n",
    "    print(f\"Lista ordenada: {vetor}\")\n",
    "    \n",
    "    try:\n",
    "        valor_buscar = int(input(\"Digite o valor que deseja buscar no vetor: \"))\n",
    "    except ValueError:\n",
    "        print(\"Por favor, insira um número inteiro válido.\")\n",
    "        return\n",
    "    \n",
    "    resultado = busca_binaria(valor_buscar, vetor)\n",
    "    \n",
    "    if resultado != -1:\n",
    "        print(f\"Valor {valor_buscar} encontrado na posição {resultado}.\")\n",
    "    else:\n",
    "        print(f\"Valor {valor_buscar} não encontrado no vetor.\")\n",
    "\n",
    "if __name__ == \"__main__\":\n",
    "    main()\n"
   ]
  },
  {
   "cell_type": "code",
   "execution_count": null,
   "id": "661cb633-0ba4-4473-b456-ce2d0aab55b5",
   "metadata": {},
   "outputs": [],
   "source": []
  },
  {
   "cell_type": "code",
   "execution_count": null,
   "id": "d7ea526d-c8d1-4018-9195-72bcb9f74152",
   "metadata": {},
   "outputs": [],
   "source": []
  }
 ],
 "metadata": {
  "kernelspec": {
   "display_name": "Python 3 (ipykernel)",
   "language": "python",
   "name": "python3"
  },
  "language_info": {
   "codemirror_mode": {
    "name": "ipython",
    "version": 3
   },
   "file_extension": ".py",
   "mimetype": "text/x-python",
   "name": "python",
   "nbconvert_exporter": "python",
   "pygments_lexer": "ipython3",
   "version": "3.12.4"
  }
 },
 "nbformat": 4,
 "nbformat_minor": 5
}

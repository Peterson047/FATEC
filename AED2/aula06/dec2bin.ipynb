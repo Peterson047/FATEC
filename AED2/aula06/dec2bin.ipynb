{
 "cells": [
  {
   "cell_type": "code",
   "execution_count": 1,
   "id": "8f629214-39a8-4cdb-a3f3-b0c743debba8",
   "metadata": {},
   "outputs": [],
   "source": [
    "# Implementacao da classe Pilha\n",
    "class Stack:\n",
    "    # Inicia com uma pilha vazia\n",
    "    def __init__(self):\n",
    "        self.__itens = []\n",
    "    \n",
    "    # Verifica se pilha esta vazia\n",
    "    def is_empty(self):\n",
    "        return self.__itens == []\n",
    "\n",
    " \n",
    "    # Adiciona elemento no topo (topo e o final da lista)\n",
    "    def push(self, item):\n",
    "        self.__itens.append(item)\n",
    "        print(f\"PUSH {item}\")\n",
    "\n",
    "    # Remove elemento do topo (final da lista)\n",
    "    def pop(self):\n",
    "        print(f\"POP - {self.__itens[-1]}\")\n",
    "        return self.__itens.pop()\n",
    "    \n",
    "    # Obtem o elemento do topo (mas nao remove)\n",
    "    def peek(self):\n",
    "    # Em Python, indice -1 retorna ultimo elemento (topo)\n",
    "        return self.__itens[-1]\n",
    "    \n",
    "    # Retorna o numero de elementos da pilha\n",
    "    def size(self):\n",
    "        return len(self.__itens)\n",
    "    \n",
    "    # Imprime pilha na tela\n",
    "    def print_stack(self):\n",
    "        print(self.__itens)"
   ]
  },
  {
   "cell_type": "code",
   "execution_count": 10,
   "id": "3430570d-56a0-4579-8044-1f606dd1ba70",
   "metadata": {},
   "outputs": [],
   "source": [
    "def decimal_binario(decimal):\n",
    "    p = Stack()\n",
    "    while decimal > 0:\n",
    "         resto = decimal % 2\n",
    "         p.push(resto)\n",
    "         decimal = decimal // 2 ##decimal é o quociente anterior\n",
    "\n",
    "    binario = ''\n",
    "    while not p.is_empty(): ## enquanto a lista não for vazia \n",
    "         binario = binario + str(p.pop()) ## binario \n",
    "    return binario"
   ]
  },
  {
   "cell_type": "code",
   "execution_count": 11,
   "id": "d6053880-a009-4d09-a24b-4dfa1f31000e",
   "metadata": {},
   "outputs": [
    {
     "name": "stdin",
     "output_type": "stream",
     "text": [
      "Entre com um número inteiro:  13\n"
     ]
    },
    {
     "name": "stdout",
     "output_type": "stream",
     "text": [
      "PUSH 1\n",
      "PUSH 0\n",
      "PUSH 1\n",
      "PUSH 1\n",
      "POP - 1\n",
      "POP - 1\n",
      "POP - 0\n",
      "POP - 1\n",
      "O valor 13 em binário é: 1101\n"
     ]
    }
   ],
   "source": [
    "# TESTANDO\n",
    "n = int(input('Entre com um número inteiro: '))\n",
    "print(f\"O valor {n} em binário é: {decimal_binario(n)}\") "
   ]
  },
  {
   "cell_type": "code",
   "execution_count": null,
   "id": "9d7e6487-6a12-4c9d-8d96-34d0994bd76f",
   "metadata": {},
   "outputs": [],
   "source": []
  }
 ],
 "metadata": {
  "kernelspec": {
   "display_name": "Python 3 (ipykernel)",
   "language": "python",
   "name": "python3"
  },
  "language_info": {
   "codemirror_mode": {
    "name": "ipython",
    "version": 3
   },
   "file_extension": ".py",
   "mimetype": "text/x-python",
   "name": "python",
   "nbconvert_exporter": "python",
   "pygments_lexer": "ipython3",
   "version": "3.12.4"
  }
 },
 "nbformat": 4,
 "nbformat_minor": 5
}

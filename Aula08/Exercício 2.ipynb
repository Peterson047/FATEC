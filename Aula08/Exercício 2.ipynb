{
 "cells": [
  {
   "cell_type": "code",
   "execution_count": null,
   "id": "54253880",
   "metadata": {},
   "outputs": [],
   "source": [
    "v = input (\"Digite um caractere: \")\n",
    "if v == \"a\" or v == \"e\" or v == \"i\" or v == \"o\" or  v ==\"u\":\n",
    "    print (\"O caractere é uma vogal\")\n",
    "else:   \n",
    "    print (\"O caracter NÃO é uma vogal\")"
   ]
  }
 ],
 "metadata": {
  "kernelspec": {
   "display_name": "Python 3 (ipykernel)",
   "language": "python",
   "name": "python3"
  },
  "language_info": {
   "codemirror_mode": {
    "name": "ipython",
    "version": 3
   },
   "file_extension": ".py",
   "mimetype": "text/x-python",
   "name": "python",
   "nbconvert_exporter": "python",
   "pygments_lexer": "ipython3",
   "version": "3.11.5"
  }
 },
 "nbformat": 4,
 "nbformat_minor": 5
}

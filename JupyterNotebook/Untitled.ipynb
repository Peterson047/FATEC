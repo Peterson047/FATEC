{
 "cells": [
  {
   "cell_type": "code",
   "execution_count": 21,
   "id": "97d7109e-ee15-4dc7-ad67-06a59f2b5f20",
   "metadata": {},
   "outputs": [
    {
     "name": "stdin",
     "output_type": "stream",
     "text": [
      "Digite um número 6\n"
     ]
    },
    {
     "name": "stdout",
     "output_type": "stream",
     "text": [
      "Está dentro do intervalo proposto\n"
     ]
    }
   ],
   "source": [
    "numero = float (input(\"Digite um número\"))\n",
    "if numero > 5 and numero <= 10: \n",
    "        print (\"Está dentro do intervalo proposto\")\n",
    "else: print (\"Não está dentro do itnervalo\")"
   ]
  },
  {
   "cell_type": "code",
   "execution_count": 33,
   "id": "86c6a958-8585-4837-a324-cc9b190fbf6c",
   "metadata": {},
   "outputs": [
    {
     "name": "stdin",
     "output_type": "stream",
     "text": [
      "Digite um número 12\n"
     ]
    },
    {
     "name": "stdout",
     "output_type": "stream",
     "text": [
      "Divisível por 2 & 3\n"
     ]
    }
   ],
   "source": [
    "numero = float (input(\"Digite um número\"))\n",
    "if numero % 2 == 0 and numero % 3 == 0:\n",
    "    print (\"Divisível por 2 & 3\")\n",
    "else: print (\"Não é divisível por 2 & 3\")\n"
   ]
  },
  {
   "cell_type": "code",
   "execution_count": 10,
   "id": "c9def8f8-224f-4ffc-a273-c5888bfa629c",
   "metadata": {},
   "outputs": [
    {
     "ename": "SyntaxError",
     "evalue": "invalid syntax (388494522.py, line 5)",
     "output_type": "error",
     "traceback": [
      "\u001b[1;36m  Cell \u001b[1;32mIn[10], line 5\u001b[1;36m\u001b[0m\n\u001b[1;33m    else:\u001b[0m\n\u001b[1;37m    ^\u001b[0m\n\u001b[1;31mSyntaxError\u001b[0m\u001b[1;31m:\u001b[0m invalid syntax\n"
     ]
    }
   ],
   "source": [
    "numero = int(input(\"Digite um número\"))\n",
    "if numero > 0 and numero < 100:\n",
    "    if numero % 2 == 0 or numero % 5 == 0 or numero % 7 ==0:\n",
    "        print (\"O número não é primo\")\n",
    "    else:\n",
    "            print (\"O número é primo\")"
   ]
  },
  {
   "cell_type": "code",
   "execution_count": null,
   "id": "bbdacf38-cb74-41f5-bfb1-4e00bef1ad60",
   "metadata": {},
   "outputs": [],
   "source": []
  }
 ],
 "metadata": {
  "kernelspec": {
   "display_name": "Python 3 (ipykernel)",
   "language": "python",
   "name": "python3"
  },
  "language_info": {
   "codemirror_mode": {
    "name": "ipython",
    "version": 3
   },
   "file_extension": ".py",
   "mimetype": "text/x-python",
   "name": "python",
   "nbconvert_exporter": "python",
   "pygments_lexer": "ipython3",
   "version": "3.12.4"
  }
 },
 "nbformat": 4,
 "nbformat_minor": 5
}

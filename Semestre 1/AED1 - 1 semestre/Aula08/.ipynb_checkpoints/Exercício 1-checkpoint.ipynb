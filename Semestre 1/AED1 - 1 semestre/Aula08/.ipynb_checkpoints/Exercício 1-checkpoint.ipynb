{
 "cells": [
  {
   "cell_type": "code",
   "execution_count": null,
   "id": "9906bc6d",
   "metadata": {},
   "outputs": [],
   "source": [
    "num1 = input (\"Digite um número: \")\n",
    "num2 = input (\"Digite outro número: \")\n",
    "if num1 > num2:\n",
    "    print (\"O primeiro número é maior\")\n",
    "else:\n",
    "    print (\"O segundo número é maior\")    "
   ]
  }
 ],
 "metadata": {
  "kernelspec": {
   "display_name": "Python 3 (ipykernel)",
   "language": "python",
   "name": "python3"
  },
  "language_info": {
   "codemirror_mode": {
    "name": "ipython",
    "version": 3
   },
   "file_extension": ".py",
   "mimetype": "text/x-python",
   "name": "python",
   "nbconvert_exporter": "python",
   "pygments_lexer": "ipython3",
   "version": "3.11.5"
  }
 },
 "nbformat": 4,
 "nbformat_minor": 5
}

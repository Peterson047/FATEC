{
 "cells": [
  {
   "cell_type": "code",
   "execution_count": null,
   "id": "e824b924",
   "metadata": {},
   "outputs": [],
   "source": [
    "\n",
    "idade = float (input (\"nadador! digite sua idade: \"))\n",
    "if (idade >=4 ) and (idade <=7):\n",
    "    print (\"infantil\")\n",
    "else:\n",
    "    if (idade >=8) and (idade <=10):\n",
    "        print (\"Juvenil\")\n",
    "    else:\n",
    "        if (idade >=11) and (idade <=15):\n",
    "            print (\"Adolescente\")\n",
    "        else:\n",
    "            if (idade >=16) and (idade <=30):\n",
    "             print (\"Adulto\")\n",
    "            else:\n",
    "                if (idade >30):\n",
    "                    print (\"Sênior\")\n",
    "                else:\n",
    "                    print (\"ERROR! TENTE NOVAMENTE\")\n"
   ]
  }
 ],
 "metadata": {
  "kernelspec": {
   "display_name": "Python 3 (ipykernel)",
   "language": "python",
   "name": "python3"
  },
  "language_info": {
   "codemirror_mode": {
    "name": "ipython",
    "version": 3
   },
   "file_extension": ".py",
   "mimetype": "text/x-python",
   "name": "python",
   "nbconvert_exporter": "python",
   "pygments_lexer": "ipython3",
   "version": "3.11.5"
  }
 },
 "nbformat": 4,
 "nbformat_minor": 5
}

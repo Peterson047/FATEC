{
  "cells": [
    {
      "cell_type": "markdown",
      "metadata": {
        "id": "jZoItEtiIWSg"
      },
      "source": [
        "# Aula 15 - Algoritmos e Estrutura de Dados\n",
        "## Exercícios sobre Numpy"
      ]
    },
    {
      "cell_type": "markdown",
      "metadata": {
        "id": "8h6S_z7wIWSh"
      },
      "source": [
        "## Fácil"
      ]
    },
    {
      "cell_type": "markdown",
      "metadata": {
        "id": "tu7mnWoYIWSi"
      },
      "source": [
        "⚫1- Importe numpy como ‘np’ e imprima o número da versão."
      ]
    },
    {
      "cell_type": "code",
      "execution_count": 1,
      "metadata": {
        "colab": {
          "base_uri": "https://localhost:8080/"
        },
        "id": "sjAsAt4uIWSj",
        "outputId": "594eb13c-0cad-4d3a-8aa6-649560fa7a20"
      },
      "outputs": [
        {
          "output_type": "stream",
          "name": "stdout",
          "text": [
            "1.25.2\n"
          ]
        }
      ],
      "source": [
        "import numpy as np\n",
        "print(np.__version__)"
      ]
    },
    {
      "cell_type": "markdown",
      "metadata": {
        "id": "NZr86E_WIWSk"
      },
      "source": [
        "⚫2- Crie uma matriz 1D com números de 0 a 9"
      ]
    },
    {
      "cell_type": "code",
      "execution_count": 3,
      "metadata": {
        "colab": {
          "base_uri": "https://localhost:8080/"
        },
        "id": "V6TxHOXWIWSk",
        "outputId": "4b27c8a3-9b9c-4f8d-ba35-af3e15f80786"
      },
      "outputs": [
        {
          "output_type": "stream",
          "name": "stdout",
          "text": [
            "[0 1 2 3 4 5 6 7 8 9]\n"
          ]
        }
      ],
      "source": [
        "import numpy as np\n",
        "x = np.arange(0, 10)\n",
        "print(x)\n"
      ]
    },
    {
      "cell_type": "markdown",
      "metadata": {
        "id": "H83ly2tEIWSl"
      },
      "source": [
        "⚫3- Crie uma matriz booleana numpy 3×3 com ‘True’"
      ]
    },
    {
      "cell_type": "code",
      "execution_count": 4,
      "metadata": {
        "colab": {
          "base_uri": "https://localhost:8080/"
        },
        "id": "_FOwx8uWIWSl",
        "outputId": "d7866b2a-697d-4ee5-89e7-8fbc889f5e1e"
      },
      "outputs": [
        {
          "output_type": "stream",
          "name": "stdout",
          "text": [
            "[[ True  True  True]\n",
            " [ True  True  True]\n",
            " [ True  True  True]]\n"
          ]
        }
      ],
      "source": [
        "import numpy as np\n",
        "x = np.full((3, 3), True)\n",
        "print(x)\n"
      ]
    },
    {
      "cell_type": "markdown",
      "metadata": {
        "id": "EjbWKzrFIWSm"
      },
      "source": [
        "⚫4- Extraia todos os números ímpares de de uma variável chamada ‘arr’ que recebe o vetor criado no exercício 2 acima."
      ]
    },
    {
      "cell_type": "code",
      "execution_count": 6,
      "metadata": {
        "colab": {
          "base_uri": "https://localhost:8080/"
        },
        "id": "hKEULGOEIWSm",
        "outputId": "f7f2a5e2-2e70-4c01-d356-6bdae92fa49f"
      },
      "outputs": [
        {
          "output_type": "stream",
          "name": "stdout",
          "text": [
            "[1 3 5 7 9]\n"
          ]
        }
      ],
      "source": [
        "import numpy as np\n",
        "arr = np.arange(0, 10)\n",
        "odd_numbers = arr[arr % 2 == 1]\n",
        "print(odd_numbers)\n"
      ]
    },
    {
      "cell_type": "markdown",
      "metadata": {
        "id": "MPaqebFPIWSm"
      },
      "source": [
        "⚫5- Substitua todos os números ímpares arr por -1"
      ]
    },
    {
      "cell_type": "code",
      "execution_count": 7,
      "metadata": {
        "colab": {
          "base_uri": "https://localhost:8080/"
        },
        "id": "8kFXstRuIWSm",
        "outputId": "0d0e2980-ee97-4dfb-86a5-be2ec3484dd8"
      },
      "outputs": [
        {
          "output_type": "stream",
          "name": "stdout",
          "text": [
            "[ 0 -1  2 -1  4 -1  6 -1  8 -1]\n"
          ]
        }
      ],
      "source": [
        "arr[arr % 2 == 1] = -1\n",
        "print(arr)\n"
      ]
    },
    {
      "cell_type": "markdown",
      "metadata": {
        "id": "MIMIRpV9IWSm"
      },
      "source": [
        "## Médio"
      ]
    },
    {
      "cell_type": "markdown",
      "metadata": {
        "id": "PZ9CfQ2mIWSn"
      },
      "source": [
        "⚫1- Substitua todos os números ímpares em arr com -1 sem alterar arr"
      ]
    },
    {
      "cell_type": "code",
      "execution_count": 8,
      "metadata": {
        "colab": {
          "base_uri": "https://localhost:8080/"
        },
        "id": "nNXSKK4sIWSn",
        "outputId": "d1262caa-de80-4fc1-d931-fb8a6ac3a160"
      },
      "outputs": [
        {
          "output_type": "stream",
          "name": "stdout",
          "text": [
            "Original array:\n",
            "[0 1 2 3 4 5 6 7 8 9]\n",
            "Copied array with odd numbers replaced by -1:\n",
            "[ 0 -1  2 -1  4 -1  6 -1  8 -1]\n"
          ]
        }
      ],
      "source": [
        "import numpy as np\n",
        "arr = np.arange(0, 10)\n",
        "arr_copy = arr.copy()\n",
        "arr_copy[arr_copy % 2 == 1] = -1\n",
        "\n",
        "print(\"Original array:\")\n",
        "print(arr)\n",
        "print(\"Copied array with odd numbers replaced by -1:\")\n",
        "print(arr_copy)\n"
      ]
    },
    {
      "cell_type": "markdown",
      "metadata": {
        "id": "BJA3JZ7SIWSn"
      },
      "source": [
        "⚫2- Converta uma matriz 1D para uma matriz 2D com 2 linhas:"
      ]
    },
    {
      "cell_type": "code",
      "execution_count": 9,
      "metadata": {
        "colab": {
          "base_uri": "https://localhost:8080/"
        },
        "id": "TdYhlBZ1IWSn",
        "outputId": "9777e8e3-25da-4359-995f-c38b79d4ebaa"
      },
      "outputs": [
        {
          "output_type": "stream",
          "name": "stdout",
          "text": [
            "[[0 1 2 3 4]\n",
            " [5 6 7 8 9]]\n"
          ]
        }
      ],
      "source": [
        "import numpy as np\n",
        "x = np.arange(0, 10)\n",
        "x = np.reshape(x, (2, 5))\n",
        "\n",
        "print(x)\n"
      ]
    },
    {
      "cell_type": "markdown",
      "metadata": {
        "id": "wlOFDC5RIWSn"
      },
      "source": [
        "⚫3- Empilhe matrizes verticalmente:"
      ]
    },
    {
      "cell_type": "code",
      "execution_count": null,
      "metadata": {
        "id": "DfRhDc12IWSn"
      },
      "outputs": [],
      "source": [
        "import numpy as np\n",
        "x = np.arange(0, 10).reshape(2, 5)\n",
        "y = np.arange(10, 20).reshape(2, 5)\n",
        "\n",
        "z = np.vstack((x, y))\n",
        "print(z)\n"
      ]
    },
    {
      "cell_type": "markdown",
      "metadata": {
        "id": "pWK3eY3mIWSn"
      },
      "source": [
        "⚫4- Empilhe as matrizes horizontalmente:"
      ]
    },
    {
      "cell_type": "code",
      "execution_count": null,
      "metadata": {
        "id": "dJ1gHY4AIWSn"
      },
      "outputs": [],
      "source": [
        "import numpy as np\n",
        "x = np.arange(0, 10).reshape(2, 5)\n",
        "y = np.arange(10, 20).reshape(2, 5)\n",
        "\n",
        "z = np.hstack((x, y))\n",
        "print(z)\n"
      ]
    },
    {
      "cell_type": "markdown",
      "metadata": {
        "id": "rS4jPGIPIWSo"
      },
      "source": [
        "⚫5- Crie o seguinte padrão sem codificação, usando apenas funções numpy e a matriz de entrada abaixo ‘a’."
      ]
    },
    {
      "cell_type": "code",
      "execution_count": null,
      "metadata": {
        "id": "jTTXVR23IWSo"
      },
      "outputs": [],
      "source": [
        "a = np.array([1,2,3])"
      ]
    },
    {
      "cell_type": "code",
      "execution_count": null,
      "metadata": {
        "id": "ZTIOArS9IWSo"
      },
      "outputs": [],
      "source": [
        "import numpy as np\n",
        "pattern = np.hstack((a, a[::-1]))\n",
        "\n",
        "print(pattern)\n"
      ]
    },
    {
      "cell_type": "markdown",
      "metadata": {
        "id": "Q8sjZJFgIWSo"
      },
      "source": [
        "## Difícil"
      ]
    },
    {
      "cell_type": "markdown",
      "metadata": {
        "id": "ea7r1_HDIWSo"
      },
      "source": [
        "⚫1- Calcule as contagens de valores únicos na linha."
      ]
    },
    {
      "cell_type": "code",
      "execution_count": null,
      "metadata": {
        "id": "E7AH7coCIWSo"
      },
      "outputs": [],
      "source": [
        "import numpy as np\n",
        "np.random.seed(100)\n",
        "arr = np.random.randint(1,11,size=(6, 10))\n",
        "print(arr)"
      ]
    },
    {
      "cell_type": "code",
      "execution_count": null,
      "metadata": {
        "id": "raC7SwHRIWSo"
      },
      "outputs": [],
      "source": [
        "def counts_of_all_values_rowwise(arr2d):\n"
      ]
    }
  ],
  "metadata": {
    "kernelspec": {
      "display_name": "Python 3 (ipykernel)",
      "language": "python",
      "name": "python3"
    },
    "language_info": {
      "codemirror_mode": {
        "name": "ipython",
        "version": 3
      },
      "file_extension": ".py",
      "mimetype": "text/x-python",
      "name": "python",
      "nbconvert_exporter": "python",
      "pygments_lexer": "ipython3",
      "version": "3.11.9"
    },
    "colab": {
      "provenance": []
    }
  },
  "nbformat": 4,
  "nbformat_minor": 0
}
{
 "cells": [
  {
   "cell_type": "code",
   "execution_count": null,
   "id": "8bbe3057-53ff-49dc-a651-814262164f04",
   "metadata": {},
   "outputs": [],
   "source": [
    "## Atividade  3(a) "
   ]
  },
  {
   "cell_type": "code",
   "execution_count": 9,
   "id": "2d4ec6e6-188e-4404-8b8b-e50ce1f3ce61",
   "metadata": {},
   "outputs": [
    {
     "name": "stdin",
     "output_type": "stream",
     "text": [
      "Digite o valor lógico da proposição P f\n",
      "Digite o valor lógico da proposição Q v\n"
     ]
    },
    {
     "name": "stdout",
     "output_type": "stream",
     "text": [
      "A proposição é falsa \n"
     ]
    }
   ],
   "source": [
    "p = str(input(\"Digite o valor lógico da proposição P\"))\n",
    "q = str(input(\"Digite o valor lógico da proposição Q\"))\n",
    "if q == \"f\":\n",
    "    nq = \"v\"\n",
    "else:\n",
    "    nq= \"f\"\n",
    "if p ==\"f\" and nq == \"f\":\n",
    "    print (\"A proposição de  P∨¬Q é falsa \")\n",
    "else:\n",
    "    print (\"A proposição de  P∨¬Q é verdadeira \")\n",
    "    "
   ]
  },
  {
   "cell_type": "code",
   "execution_count": null,
   "id": "906382b3-5cd5-4f28-b424-a7de23188a39",
   "metadata": {},
   "outputs": [],
   "source": [
    "## Atividade 3 (b)"
   ]
  },
  {
   "cell_type": "code",
   "execution_count": 20,
   "id": "fe1b66f1-7523-4f94-a8c6-f81aff8d7df6",
   "metadata": {},
   "outputs": [
    {
     "name": "stdin",
     "output_type": "stream",
     "text": [
      "Digite o valor lógico da proposição P f\n",
      "Digite o valor lógico da proposição Q f\n",
      "Digite o valor lógico da proposição R f\n"
     ]
    },
    {
     "name": "stdout",
     "output_type": "stream",
     "text": [
      "A proposição é Falsa\n"
     ]
    }
   ],
   "source": [
    "p = str(input(\"Digite o valor lógico da proposição P\"))\n",
    "q = str(input(\"Digite o valor lógico da proposição Q\"))\n",
    "r = str(input(\"Digite o valor lógico da proposição R\"))\n",
    "if q == \"f\":\n",
    "    nq = \"v\"\n",
    "else:\n",
    "    nq = \"f\"\n",
    "if nq == \"v\" and r == \"f\":\n",
    "    s =  \"f\"\n",
    "else:\n",
    "    s = \"v\"\n",
    "if p == \"f\":\n",
    "    np = \"v\"\n",
    "else:\n",
    "    np = \"f\"\n",
    "if np ==\"v\" and s == \"v\":\n",
    "    print(\"A proposição é verdadeiro\")\n",
    "else: \n",
    "  print(\"A proposição é Falsa\")"
   ]
  },
  {
   "cell_type": "code",
   "execution_count": 60,
   "id": "2b884af0-389d-4fab-9ba1-80b5ae04f2fa",
   "metadata": {},
   "outputs": [
    {
     "name": "stdin",
     "output_type": "stream",
     "text": [
      "Digite o valor lógico da proposição P v\n",
      "Digite o valor lógico da proposição Q f\n",
      "Digite o valor lógico da proposição R v\n"
     ]
    },
    {
     "name": "stdout",
     "output_type": "stream",
     "text": [
      "A proposição é Falsa\n"
     ]
    }
   ],
   "source": [
    "p = str(input(\"Digite o valor lógico da proposição P\"))\n",
    "q = str(input(\"Digite o valor lógico da proposição Q\"))\n",
    "r = str(input(\"Digite o valor lógico da proposição R\"))\n",
    "if p == \"v\" and q == \"v\":\n",
    "    nq = \"v\"\n",
    "else:\n",
    "    nq = \"f\"\n",
    "if r == \"v\" and p == \"v\":\n",
    "    nr = \"v\"\n",
    "else:\n",
    "    nr = \"f\"\n",
    "if nq  == \"v\" and nr == \"v\" or  nq == \"f\" and nr == \"f\":\n",
    "    print(\"As proposições P ∧ Q ↔ R ∧ P é verdadeira\")\n",
    "else:\n",
    "    print(\"As proposições P ∧ Q ↔ R ∧ Pé Falsa\")\n",
    "\n",
    "    "
   ]
  },
  {
   "cell_type": "code",
   "execution_count": null,
   "id": "ae36bbba-2a99-4d44-935a-1ef07a52ef3f",
   "metadata": {},
   "outputs": [],
   "source": []
  }
 ],
 "metadata": {
  "kernelspec": {
   "display_name": "Python 3 (ipykernel)",
   "language": "python",
   "name": "python3"
  },
  "language_info": {
   "codemirror_mode": {
    "name": "ipython",
    "version": 3
   },
   "file_extension": ".py",
   "mimetype": "text/x-python",
   "name": "python",
   "nbconvert_exporter": "python",
   "pygments_lexer": "ipython3",
   "version": "3.12.4"
  }
 },
 "nbformat": 4,
 "nbformat_minor": 5
}

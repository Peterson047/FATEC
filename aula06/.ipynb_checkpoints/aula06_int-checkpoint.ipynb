{
 "cells": [
  {
   "cell_type": "code",
   "execution_count": 1,
   "id": "2cfb490e",
   "metadata": {},
   "outputs": [
    {
     "name": "stdout",
     "output_type": "stream",
     "text": [
      "5\n"
     ]
    }
   ],
   "source": [
    "# Inicializando uma variável do tipo inteiro\n",
    "x = 5\n",
    "print(x)"
   ]
  },
  {
   "cell_type": "code",
   "execution_count": 2,
   "id": "3de97eed",
   "metadata": {},
   "outputs": [],
   "source": [
    "y = 23\n",
    "soma = x + y"
   ]
  },
  {
   "cell_type": "code",
   "execution_count": 3,
   "id": "ac80530a",
   "metadata": {},
   "outputs": [
    {
     "name": "stdout",
     "output_type": "stream",
     "text": [
      "28\n"
     ]
    }
   ],
   "source": [
    "print (soma)"
   ]
  },
  {
   "cell_type": "code",
   "execution_count": 4,
   "id": "025c3017",
   "metadata": {},
   "outputs": [],
   "source": [
    "resultado = y / 5"
   ]
  },
  {
   "cell_type": "code",
   "execution_count": 5,
   "id": "80cb0583",
   "metadata": {},
   "outputs": [
    {
     "name": "stdout",
     "output_type": "stream",
     "text": [
      "4.6\n"
     ]
    }
   ],
   "source": [
    "print (resultado)"
   ]
  },
  {
   "cell_type": "code",
   "execution_count": 6,
   "id": "b3ac0999",
   "metadata": {},
   "outputs": [
    {
     "data": {
      "text/plain": [
       "float"
      ]
     },
     "execution_count": 6,
     "metadata": {},
     "output_type": "execute_result"
    }
   ],
   "source": [
    "type (resultado)"
   ]
  },
  {
   "cell_type": "code",
   "execution_count": 7,
   "id": "50f3d017",
   "metadata": {},
   "outputs": [
    {
     "name": "stdout",
     "output_type": "stream",
     "text": [
      "6436343\n"
     ]
    }
   ],
   "source": [
    "z = y** x\n",
    "print (z)"
   ]
  },
  {
   "cell_type": "code",
   "execution_count": 8,
   "id": "3b576c85",
   "metadata": {},
   "outputs": [
    {
     "data": {
      "text/plain": [
       "6436343"
      ]
     },
     "execution_count": 8,
     "metadata": {},
     "output_type": "execute_result"
    }
   ],
   "source": [
    "# Underline serve para dividir centenas\n",
    "z = 6_436_343\n"
   ]
  },
  {
   "cell_type": "code",
   "execution_count": 9,
   "id": "4744a1e5",
   "metadata": {},
   "outputs": [
    {
     "name": "stdout",
     "output_type": "stream",
     "text": [
      "20\n"
     ]
    }
   ],
   "source": [
    "w = 10\n",
    "w = w + 10\n",
    "print (w)\n"
   ]
  },
  {
   "cell_type": "code",
   "execution_count": 10,
   "id": "9f0e5035",
   "metadata": {},
   "outputs": [
    {
     "name": "stdout",
     "output_type": "stream",
     "text": [
      "30\n",
      "300\n",
      "30.0\n",
      "20.0\n"
     ]
    }
   ],
   "source": [
    "w += 10    # w = w +10\n",
    "print (w)\n",
    "w *= 10    # w = w *10\n",
    "print (w)\n",
    "w /= 10    # w = w /10\n",
    "print (w)\n",
    "w -= 10   # w = w -10\n",
    "print (w)\n"
   ]
  },
  {
   "cell_type": "code",
   "execution_count": null,
   "id": "69e18028",
   "metadata": {},
   "outputs": [],
   "source": []
  }
 ],
 "metadata": {
  "kernelspec": {
   "display_name": "Python 3 (ipykernel)",
   "language": "python",
   "name": "python3"
  },
  "language_info": {
   "codemirror_mode": {
    "name": "ipython",
    "version": 3
   },
   "file_extension": ".py",
   "mimetype": "text/x-python",
   "name": "python",
   "nbconvert_exporter": "python",
   "pygments_lexer": "ipython3",
   "version": "3.11.5"
  }
 },
 "nbformat": 4,
 "nbformat_minor": 5
}
